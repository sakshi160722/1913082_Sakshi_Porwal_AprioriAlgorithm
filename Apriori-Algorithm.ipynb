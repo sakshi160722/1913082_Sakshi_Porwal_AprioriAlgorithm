{
 "cells": [
  {
   "cell_type": "markdown",
   "id": "1ef46abe",
   "metadata": {},
   "source": [
    "# Loading Dataset"
   ]
  },
  {
   "cell_type": "code",
   "execution_count": 1,
   "id": "2fa11ab0",
   "metadata": {},
   "outputs": [],
   "source": [
    "import pandas as pd"
   ]
  },
  {
   "cell_type": "code",
   "execution_count": 2,
   "id": "0048774f",
   "metadata": {},
   "outputs": [],
   "source": [
    "dataset = pd.read_csv('https://raw.githubusercontent.com/okzapradhana/simple-apriori-algorithm/master/dataset_apriori.csv')"
   ]
  },
  {
   "cell_type": "code",
   "execution_count": 3,
   "id": "7b7cb57a",
   "metadata": {},
   "outputs": [
    {
     "data": {
      "text/html": [
       "<div>\n",
       "<style scoped>\n",
       "    .dataframe tbody tr th:only-of-type {\n",
       "        vertical-align: middle;\n",
       "    }\n",
       "\n",
       "    .dataframe tbody tr th {\n",
       "        vertical-align: top;\n",
       "    }\n",
       "\n",
       "    .dataframe thead th {\n",
       "        text-align: right;\n",
       "    }\n",
       "</style>\n",
       "<table border=\"1\" class=\"dataframe\">\n",
       "  <thead>\n",
       "    <tr style=\"text-align: right;\">\n",
       "      <th></th>\n",
       "      <th>tid</th>\n",
       "      <th>items</th>\n",
       "    </tr>\n",
       "  </thead>\n",
       "  <tbody>\n",
       "    <tr>\n",
       "      <th>0</th>\n",
       "      <td>1</td>\n",
       "      <td>Handphone,Laptop</td>\n",
       "    </tr>\n",
       "    <tr>\n",
       "      <th>1</th>\n",
       "      <td>2</td>\n",
       "      <td>Handphone,Charger,Laptop</td>\n",
       "    </tr>\n",
       "    <tr>\n",
       "      <th>2</th>\n",
       "      <td>3</td>\n",
       "      <td>Powerbank,Laptop,Charger,Handphone</td>\n",
       "    </tr>\n",
       "    <tr>\n",
       "      <th>3</th>\n",
       "      <td>4</td>\n",
       "      <td>Tablet,Laptop,Handphone</td>\n",
       "    </tr>\n",
       "    <tr>\n",
       "      <th>4</th>\n",
       "      <td>5</td>\n",
       "      <td>Handphone,Charger,Tablet</td>\n",
       "    </tr>\n",
       "    <tr>\n",
       "      <th>5</th>\n",
       "      <td>6</td>\n",
       "      <td>Tablet,Powerbank</td>\n",
       "    </tr>\n",
       "    <tr>\n",
       "      <th>6</th>\n",
       "      <td>7</td>\n",
       "      <td>Handphone,Laptop,Tablet,Charger</td>\n",
       "    </tr>\n",
       "    <tr>\n",
       "      <th>7</th>\n",
       "      <td>8</td>\n",
       "      <td>Charger,Handphone</td>\n",
       "    </tr>\n",
       "    <tr>\n",
       "      <th>8</th>\n",
       "      <td>9</td>\n",
       "      <td>Handphone,Powerbank</td>\n",
       "    </tr>\n",
       "    <tr>\n",
       "      <th>9</th>\n",
       "      <td>10</td>\n",
       "      <td>Laptop,Charger,Powerbank</td>\n",
       "    </tr>\n",
       "  </tbody>\n",
       "</table>\n",
       "</div>"
      ],
      "text/plain": [
       "   tid                               items\n",
       "0    1                    Handphone,Laptop\n",
       "1    2            Handphone,Charger,Laptop\n",
       "2    3  Powerbank,Laptop,Charger,Handphone\n",
       "3    4             Tablet,Laptop,Handphone\n",
       "4    5            Handphone,Charger,Tablet\n",
       "5    6                    Tablet,Powerbank\n",
       "6    7     Handphone,Laptop,Tablet,Charger\n",
       "7    8                   Charger,Handphone\n",
       "8    9                 Handphone,Powerbank\n",
       "9   10            Laptop,Charger,Powerbank"
      ]
     },
     "execution_count": 3,
     "metadata": {},
     "output_type": "execute_result"
    }
   ],
   "source": [
    "dataset"
   ]
  },
  {
   "cell_type": "markdown",
   "id": "ca61a311",
   "metadata": {},
   "source": [
    "# Preprocessing of Dataset"
   ]
  },
  {
   "cell_type": "code",
   "execution_count": 4,
   "id": "b184046b",
   "metadata": {},
   "outputs": [],
   "source": [
    "#splitting columns of dataset into two different dataframe\n",
    "df_items = dataset['items']\n",
    "df_tid = dataset['tid']"
   ]
  },
  {
   "cell_type": "code",
   "execution_count": 5,
   "id": "355b6ccb",
   "metadata": {},
   "outputs": [
    {
     "data": {
      "text/plain": [
       "0                      Handphone,Laptop\n",
       "1              Handphone,Charger,Laptop\n",
       "2    Powerbank,Laptop,Charger,Handphone\n",
       "3               Tablet,Laptop,Handphone\n",
       "4              Handphone,Charger,Tablet\n",
       "5                      Tablet,Powerbank\n",
       "6       Handphone,Laptop,Tablet,Charger\n",
       "7                     Charger,Handphone\n",
       "8                   Handphone,Powerbank\n",
       "9              Laptop,Charger,Powerbank\n",
       "Name: items, dtype: object"
      ]
     },
     "execution_count": 5,
     "metadata": {},
     "output_type": "execute_result"
    }
   ],
   "source": [
    "df_items"
   ]
  },
  {
   "cell_type": "code",
   "execution_count": 6,
   "id": "a87bab9b",
   "metadata": {},
   "outputs": [
    {
     "data": {
      "text/plain": [
       "0     1\n",
       "1     2\n",
       "2     3\n",
       "3     4\n",
       "4     5\n",
       "5     6\n",
       "6     7\n",
       "7     8\n",
       "8     9\n",
       "9    10\n",
       "Name: tid, dtype: int64"
      ]
     },
     "execution_count": 6,
     "metadata": {},
     "output_type": "execute_result"
    }
   ],
   "source": [
    "df_tid"
   ]
  },
  {
   "cell_type": "code",
   "execution_count": 7,
   "id": "95830414",
   "metadata": {},
   "outputs": [],
   "source": [
    "#assigning unique indices to all the unique items\n",
    "dictionaries = {'Handphone': 1, 'Laptop': 2, 'Charger': 3, 'Powerbank': 4, 'Tablet': 5 }"
   ]
  },
  {
   "cell_type": "code",
   "execution_count": 8,
   "id": "0d02fd34",
   "metadata": {},
   "outputs": [],
   "source": [
    "comma_splitted_df = df_items.apply(lambda x: x.split(','))"
   ]
  },
  {
   "cell_type": "code",
   "execution_count": 9,
   "id": "754d0687",
   "metadata": {},
   "outputs": [
    {
     "data": {
      "text/plain": [
       "0                        [Handphone, Laptop]\n",
       "1               [Handphone, Charger, Laptop]\n",
       "2    [Powerbank, Laptop, Charger, Handphone]\n",
       "3                [Tablet, Laptop, Handphone]\n",
       "4               [Handphone, Charger, Tablet]\n",
       "5                        [Tablet, Powerbank]\n",
       "6       [Handphone, Laptop, Tablet, Charger]\n",
       "7                       [Charger, Handphone]\n",
       "8                     [Handphone, Powerbank]\n",
       "9               [Laptop, Charger, Powerbank]\n",
       "Name: items, dtype: object"
      ]
     },
     "execution_count": 9,
     "metadata": {},
     "output_type": "execute_result"
    }
   ],
   "source": [
    "comma_splitted_df"
   ]
  },
  {
   "cell_type": "code",
   "execution_count": 10,
   "id": "52705dde",
   "metadata": {},
   "outputs": [
    {
     "data": {
      "text/plain": [
       "[[1, 2],\n",
       " [1, 2, 3],\n",
       " [1, 2, 3, 4],\n",
       " [1, 2, 5],\n",
       " [1, 3, 5],\n",
       " [4, 5],\n",
       " [1, 2, 3, 5],\n",
       " [1, 3],\n",
       " [1, 4],\n",
       " [2, 3, 4]]"
      ]
     },
     "execution_count": 10,
     "metadata": {},
     "output_type": "execute_result"
    }
   ],
   "source": [
    "#converting splitted data into integral data\n",
    "numbered_col = []\n",
    "for i in range(len(comma_splitted_df)):\n",
    "    list_numbered = list(map(lambda x: dictionaries[x], comma_splitted_df[i]))\n",
    "    sort_numbered = sorted(list_numbered)\n",
    "    numbered_col.append(sort_numbered)\n",
    "\n",
    "numbered_col"
   ]
  },
  {
   "cell_type": "markdown",
   "id": "0750e1b7",
   "metadata": {},
   "source": [
    "# Creating Dataframe from Transformed Data"
   ]
  },
  {
   "cell_type": "code",
   "execution_count": 11,
   "id": "0b839238",
   "metadata": {},
   "outputs": [],
   "source": [
    "dict_data = {'items': numbered_col}\n",
    "df = pd.DataFrame.from_dict(dict_data)"
   ]
  },
  {
   "cell_type": "code",
   "execution_count": 12,
   "id": "93c8c095",
   "metadata": {},
   "outputs": [
    {
     "data": {
      "text/html": [
       "<div>\n",
       "<style scoped>\n",
       "    .dataframe tbody tr th:only-of-type {\n",
       "        vertical-align: middle;\n",
       "    }\n",
       "\n",
       "    .dataframe tbody tr th {\n",
       "        vertical-align: top;\n",
       "    }\n",
       "\n",
       "    .dataframe thead th {\n",
       "        text-align: right;\n",
       "    }\n",
       "</style>\n",
       "<table border=\"1\" class=\"dataframe\">\n",
       "  <thead>\n",
       "    <tr style=\"text-align: right;\">\n",
       "      <th></th>\n",
       "      <th>items</th>\n",
       "    </tr>\n",
       "  </thead>\n",
       "  <tbody>\n",
       "    <tr>\n",
       "      <th>0</th>\n",
       "      <td>[1, 2]</td>\n",
       "    </tr>\n",
       "    <tr>\n",
       "      <th>1</th>\n",
       "      <td>[1, 2, 3]</td>\n",
       "    </tr>\n",
       "    <tr>\n",
       "      <th>2</th>\n",
       "      <td>[1, 2, 3, 4]</td>\n",
       "    </tr>\n",
       "    <tr>\n",
       "      <th>3</th>\n",
       "      <td>[1, 2, 5]</td>\n",
       "    </tr>\n",
       "    <tr>\n",
       "      <th>4</th>\n",
       "      <td>[1, 3, 5]</td>\n",
       "    </tr>\n",
       "    <tr>\n",
       "      <th>5</th>\n",
       "      <td>[4, 5]</td>\n",
       "    </tr>\n",
       "    <tr>\n",
       "      <th>6</th>\n",
       "      <td>[1, 2, 3, 5]</td>\n",
       "    </tr>\n",
       "    <tr>\n",
       "      <th>7</th>\n",
       "      <td>[1, 3]</td>\n",
       "    </tr>\n",
       "    <tr>\n",
       "      <th>8</th>\n",
       "      <td>[1, 4]</td>\n",
       "    </tr>\n",
       "    <tr>\n",
       "      <th>9</th>\n",
       "      <td>[2, 3, 4]</td>\n",
       "    </tr>\n",
       "  </tbody>\n",
       "</table>\n",
       "</div>"
      ],
      "text/plain": [
       "          items\n",
       "0        [1, 2]\n",
       "1     [1, 2, 3]\n",
       "2  [1, 2, 3, 4]\n",
       "3     [1, 2, 5]\n",
       "4     [1, 3, 5]\n",
       "5        [4, 5]\n",
       "6  [1, 2, 3, 5]\n",
       "7        [1, 3]\n",
       "8        [1, 4]\n",
       "9     [2, 3, 4]"
      ]
     },
     "execution_count": 12,
     "metadata": {},
     "output_type": "execute_result"
    }
   ],
   "source": [
    "df"
   ]
  },
  {
   "cell_type": "code",
   "execution_count": 13,
   "id": "b626c578",
   "metadata": {},
   "outputs": [
    {
     "data": {
      "text/html": [
       "<div>\n",
       "<style scoped>\n",
       "    .dataframe tbody tr th:only-of-type {\n",
       "        vertical-align: middle;\n",
       "    }\n",
       "\n",
       "    .dataframe tbody tr th {\n",
       "        vertical-align: top;\n",
       "    }\n",
       "\n",
       "    .dataframe thead th {\n",
       "        text-align: right;\n",
       "    }\n",
       "</style>\n",
       "<table border=\"1\" class=\"dataframe\">\n",
       "  <thead>\n",
       "    <tr style=\"text-align: right;\">\n",
       "      <th></th>\n",
       "      <th>tid</th>\n",
       "      <th>items</th>\n",
       "    </tr>\n",
       "  </thead>\n",
       "  <tbody>\n",
       "    <tr>\n",
       "      <th>0</th>\n",
       "      <td>1</td>\n",
       "      <td>[1, 2]</td>\n",
       "    </tr>\n",
       "    <tr>\n",
       "      <th>1</th>\n",
       "      <td>2</td>\n",
       "      <td>[1, 2, 3]</td>\n",
       "    </tr>\n",
       "    <tr>\n",
       "      <th>2</th>\n",
       "      <td>3</td>\n",
       "      <td>[1, 2, 3, 4]</td>\n",
       "    </tr>\n",
       "    <tr>\n",
       "      <th>3</th>\n",
       "      <td>4</td>\n",
       "      <td>[1, 2, 5]</td>\n",
       "    </tr>\n",
       "    <tr>\n",
       "      <th>4</th>\n",
       "      <td>5</td>\n",
       "      <td>[1, 3, 5]</td>\n",
       "    </tr>\n",
       "    <tr>\n",
       "      <th>5</th>\n",
       "      <td>6</td>\n",
       "      <td>[4, 5]</td>\n",
       "    </tr>\n",
       "    <tr>\n",
       "      <th>6</th>\n",
       "      <td>7</td>\n",
       "      <td>[1, 2, 3, 5]</td>\n",
       "    </tr>\n",
       "    <tr>\n",
       "      <th>7</th>\n",
       "      <td>8</td>\n",
       "      <td>[1, 3]</td>\n",
       "    </tr>\n",
       "    <tr>\n",
       "      <th>8</th>\n",
       "      <td>9</td>\n",
       "      <td>[1, 4]</td>\n",
       "    </tr>\n",
       "    <tr>\n",
       "      <th>9</th>\n",
       "      <td>10</td>\n",
       "      <td>[2, 3, 4]</td>\n",
       "    </tr>\n",
       "  </tbody>\n",
       "</table>\n",
       "</div>"
      ],
      "text/plain": [
       "   tid         items\n",
       "0    1        [1, 2]\n",
       "1    2     [1, 2, 3]\n",
       "2    3  [1, 2, 3, 4]\n",
       "3    4     [1, 2, 5]\n",
       "4    5     [1, 3, 5]\n",
       "5    6        [4, 5]\n",
       "6    7  [1, 2, 3, 5]\n",
       "7    8        [1, 3]\n",
       "8    9        [1, 4]\n",
       "9   10     [2, 3, 4]"
      ]
     },
     "execution_count": 13,
     "metadata": {},
     "output_type": "execute_result"
    }
   ],
   "source": [
    "pd.concat([df_tid, df], axis=1)"
   ]
  },
  {
   "cell_type": "code",
   "execution_count": 14,
   "id": "5fdfcdb3",
   "metadata": {},
   "outputs": [
    {
     "data": {
      "text/plain": [
       "[1,\n",
       " 2,\n",
       " 1,\n",
       " 2,\n",
       " 3,\n",
       " 1,\n",
       " 2,\n",
       " 3,\n",
       " 4,\n",
       " 1,\n",
       " 2,\n",
       " 5,\n",
       " 1,\n",
       " 3,\n",
       " 5,\n",
       " 4,\n",
       " 5,\n",
       " 1,\n",
       " 2,\n",
       " 3,\n",
       " 5,\n",
       " 1,\n",
       " 3,\n",
       " 1,\n",
       " 4,\n",
       " 2,\n",
       " 3,\n",
       " 4]"
      ]
     },
     "execution_count": 14,
     "metadata": {},
     "output_type": "execute_result"
    }
   ],
   "source": [
    "items = []\n",
    "for i in range(len(df)):\n",
    "    for j in range(len(df['items'][i])):\n",
    "        items.append(df['items'][i][j])\n",
    "items"
   ]
  },
  {
   "cell_type": "markdown",
   "id": "cf80d960",
   "metadata": {},
   "source": [
    "# Creating First Candidate (C1)"
   ]
  },
  {
   "cell_type": "code",
   "execution_count": 15,
   "id": "56615012",
   "metadata": {},
   "outputs": [
    {
     "data": {
      "text/plain": [
       "{1, 2, 3, 4, 5}"
      ]
     },
     "execution_count": 15,
     "metadata": {},
     "output_type": "execute_result"
    }
   ],
   "source": [
    "#Get unique elements from list/array\n",
    "unique_item = set(items)\n",
    "unique_item"
   ]
  },
  {
   "cell_type": "code",
   "execution_count": 16,
   "id": "5094a1fc",
   "metadata": {},
   "outputs": [
    {
     "data": {
      "text/plain": [
       "[1, 2, 3, 4, 5]"
      ]
     },
     "execution_count": 16,
     "metadata": {},
     "output_type": "execute_result"
    }
   ],
   "source": [
    "#Convert it into list\n",
    "list_unique_item = list(unique_item)\n",
    "list_unique_item"
   ]
  },
  {
   "cell_type": "code",
   "execution_count": 17,
   "id": "581a38e1",
   "metadata": {},
   "outputs": [
    {
     "data": {
      "text/plain": [
       "[(1, 8), (2, 6), (3, 6), (4, 4), (5, 4)]"
      ]
     },
     "execution_count": 17,
     "metadata": {},
     "output_type": "execute_result"
    }
   ],
   "source": [
    "#counting frequency of every unique items\n",
    "count_unique = []\n",
    "for value in (list_unique_item):\n",
    "    count_unique.append((value, items.count(value)))\n",
    "count_unique"
   ]
  },
  {
   "cell_type": "code",
   "execution_count": 18,
   "id": "8dede4a4",
   "metadata": {},
   "outputs": [
    {
     "data": {
      "text/html": [
       "<div>\n",
       "<style scoped>\n",
       "    .dataframe tbody tr th:only-of-type {\n",
       "        vertical-align: middle;\n",
       "    }\n",
       "\n",
       "    .dataframe tbody tr th {\n",
       "        vertical-align: top;\n",
       "    }\n",
       "\n",
       "    .dataframe thead th {\n",
       "        text-align: right;\n",
       "    }\n",
       "</style>\n",
       "<table border=\"1\" class=\"dataframe\">\n",
       "  <thead>\n",
       "    <tr style=\"text-align: right;\">\n",
       "      <th></th>\n",
       "      <th>itemset</th>\n",
       "      <th>sup</th>\n",
       "    </tr>\n",
       "  </thead>\n",
       "  <tbody>\n",
       "    <tr>\n",
       "      <th>0</th>\n",
       "      <td>1</td>\n",
       "      <td>8</td>\n",
       "    </tr>\n",
       "    <tr>\n",
       "      <th>1</th>\n",
       "      <td>2</td>\n",
       "      <td>6</td>\n",
       "    </tr>\n",
       "    <tr>\n",
       "      <th>2</th>\n",
       "      <td>3</td>\n",
       "      <td>6</td>\n",
       "    </tr>\n",
       "    <tr>\n",
       "      <th>3</th>\n",
       "      <td>4</td>\n",
       "      <td>4</td>\n",
       "    </tr>\n",
       "    <tr>\n",
       "      <th>4</th>\n",
       "      <td>5</td>\n",
       "      <td>4</td>\n",
       "    </tr>\n",
       "  </tbody>\n",
       "</table>\n",
       "</div>"
      ],
      "text/plain": [
       "   itemset  sup\n",
       "0        1    8\n",
       "1        2    6\n",
       "2        3    6\n",
       "3        4    4\n",
       "4        5    4"
      ]
     },
     "execution_count": 18,
     "metadata": {},
     "output_type": "execute_result"
    }
   ],
   "source": [
    "candidate1_df = pd.DataFrame(count_unique, columns=[\"itemset\", \"sup\"])\n",
    "\n",
    "candidate1_df"
   ]
  },
  {
   "cell_type": "markdown",
   "id": "cabb1376",
   "metadata": {},
   "source": [
    "# Creating first Frequent Itemset (L1)"
   ]
  },
  {
   "cell_type": "code",
   "execution_count": 19,
   "id": "8a82e58b",
   "metadata": {},
   "outputs": [],
   "source": [
    "#filtering items having minimum support count 2\n",
    "def filter_sup(candidate):\n",
    "    minimum_sup = 2\n",
    "    filtering = candidate['sup'] > minimum_sup\n",
    "    freq = candidate[filtering]\n",
    "    return freq"
   ]
  },
  {
   "cell_type": "code",
   "execution_count": 20,
   "id": "09bc8baa",
   "metadata": {},
   "outputs": [
    {
     "data": {
      "text/html": [
       "<div>\n",
       "<style scoped>\n",
       "    .dataframe tbody tr th:only-of-type {\n",
       "        vertical-align: middle;\n",
       "    }\n",
       "\n",
       "    .dataframe tbody tr th {\n",
       "        vertical-align: top;\n",
       "    }\n",
       "\n",
       "    .dataframe thead th {\n",
       "        text-align: right;\n",
       "    }\n",
       "</style>\n",
       "<table border=\"1\" class=\"dataframe\">\n",
       "  <thead>\n",
       "    <tr style=\"text-align: right;\">\n",
       "      <th></th>\n",
       "      <th>itemset</th>\n",
       "      <th>sup</th>\n",
       "    </tr>\n",
       "  </thead>\n",
       "  <tbody>\n",
       "    <tr>\n",
       "      <th>0</th>\n",
       "      <td>1</td>\n",
       "      <td>8</td>\n",
       "    </tr>\n",
       "    <tr>\n",
       "      <th>1</th>\n",
       "      <td>2</td>\n",
       "      <td>6</td>\n",
       "    </tr>\n",
       "    <tr>\n",
       "      <th>2</th>\n",
       "      <td>3</td>\n",
       "      <td>6</td>\n",
       "    </tr>\n",
       "    <tr>\n",
       "      <th>3</th>\n",
       "      <td>4</td>\n",
       "      <td>4</td>\n",
       "    </tr>\n",
       "    <tr>\n",
       "      <th>4</th>\n",
       "      <td>5</td>\n",
       "      <td>4</td>\n",
       "    </tr>\n",
       "  </tbody>\n",
       "</table>\n",
       "</div>"
      ],
      "text/plain": [
       "   itemset  sup\n",
       "0        1    8\n",
       "1        2    6\n",
       "2        3    6\n",
       "3        4    4\n",
       "4        5    4"
      ]
     },
     "execution_count": 20,
     "metadata": {},
     "output_type": "execute_result"
    }
   ],
   "source": [
    "freq_itemset1 = filter_sup(candidate1_df)\n",
    "freq_itemset1"
   ]
  },
  {
   "cell_type": "markdown",
   "id": "35186aac",
   "metadata": {},
   "source": [
    "# Create the Second Candidate (C2)"
   ]
  },
  {
   "cell_type": "markdown",
   "id": "fa7efd8e",
   "metadata": {},
   "source": [
    "SELF JOIN"
   ]
  },
  {
   "cell_type": "code",
   "execution_count": 21,
   "id": "ad5eec80",
   "metadata": {},
   "outputs": [],
   "source": [
    "import numpy\n",
    "def self_join(prev_freq_itemset):\n",
    "    self_join_candidate = []\n",
    "    for i in range(len(prev_freq_itemset['itemset'])):\n",
    "        for j in range((i+1), len(prev_freq_itemset['itemset'])):\n",
    "            itemset_i = prev_freq_itemset['itemset'][i]\n",
    "            itemset_j = prev_freq_itemset['itemset'][j]\n",
    "            if(type(itemset_i) == numpy.int64 and type(itemset_j) == numpy.int64):\n",
    "                itemset_i = {itemset_i}\n",
    "                itemset_j = {itemset_j}\n",
    "            union_candidate = itemset_i.union(itemset_j)\n",
    "\n",
    "            if union_candidate not in self_join_candidate:\n",
    "                self_join_candidate.append(union_candidate)\n",
    "    return self_join_candidate"
   ]
  },
  {
   "cell_type": "code",
   "execution_count": 22,
   "id": "f0f01fc5",
   "metadata": {},
   "outputs": [
    {
     "data": {
      "text/plain": [
       "[{1, 2},\n",
       " {1, 3},\n",
       " {1, 4},\n",
       " {1, 5},\n",
       " {2, 3},\n",
       " {2, 4},\n",
       " {2, 5},\n",
       " {3, 4},\n",
       " {3, 5},\n",
       " {4, 5}]"
      ]
     },
     "execution_count": 22,
     "metadata": {},
     "output_type": "execute_result"
    }
   ],
   "source": [
    "candidate2_list = self_join(freq_itemset1)\n",
    "candidate2_list"
   ]
  },
  {
   "cell_type": "code",
   "execution_count": 23,
   "id": "443a1b7a",
   "metadata": {},
   "outputs": [
    {
     "data": {
      "text/plain": [
       "[({1, 2}, 0),\n",
       " ({1, 3}, 0),\n",
       " ({1, 4}, 0),\n",
       " ({1, 5}, 0),\n",
       " ({2, 3}, 0),\n",
       " ({2, 4}, 0),\n",
       " ({2, 5}, 0),\n",
       " ({3, 4}, 0),\n",
       " ({3, 5}, 0),\n",
       " ({4, 5}, 0)]"
      ]
     },
     "execution_count": 23,
     "metadata": {},
     "output_type": "execute_result"
    }
   ],
   "source": [
    "count_candidate2 = []\n",
    "\n",
    "#Set the Initial value of Second Count Candidate (C2)\n",
    "for i in range(len(candidate2_list)):\n",
    "    count_candidate2.append((candidate2_list[i], 0))\n",
    "\n",
    "count_candidate2"
   ]
  },
  {
   "cell_type": "code",
   "execution_count": 24,
   "id": "10ee6a88",
   "metadata": {},
   "outputs": [
    {
     "data": {
      "text/html": [
       "<div>\n",
       "<style scoped>\n",
       "    .dataframe tbody tr th:only-of-type {\n",
       "        vertical-align: middle;\n",
       "    }\n",
       "\n",
       "    .dataframe tbody tr th {\n",
       "        vertical-align: top;\n",
       "    }\n",
       "\n",
       "    .dataframe thead th {\n",
       "        text-align: right;\n",
       "    }\n",
       "</style>\n",
       "<table border=\"1\" class=\"dataframe\">\n",
       "  <thead>\n",
       "    <tr style=\"text-align: right;\">\n",
       "      <th></th>\n",
       "      <th>itemset</th>\n",
       "      <th>sup</th>\n",
       "    </tr>\n",
       "  </thead>\n",
       "  <tbody>\n",
       "    <tr>\n",
       "      <th>0</th>\n",
       "      <td>{1, 2}</td>\n",
       "      <td>0</td>\n",
       "    </tr>\n",
       "    <tr>\n",
       "      <th>1</th>\n",
       "      <td>{1, 3}</td>\n",
       "      <td>0</td>\n",
       "    </tr>\n",
       "    <tr>\n",
       "      <th>2</th>\n",
       "      <td>{1, 4}</td>\n",
       "      <td>0</td>\n",
       "    </tr>\n",
       "    <tr>\n",
       "      <th>3</th>\n",
       "      <td>{1, 5}</td>\n",
       "      <td>0</td>\n",
       "    </tr>\n",
       "    <tr>\n",
       "      <th>4</th>\n",
       "      <td>{2, 3}</td>\n",
       "      <td>0</td>\n",
       "    </tr>\n",
       "    <tr>\n",
       "      <th>5</th>\n",
       "      <td>{2, 4}</td>\n",
       "      <td>0</td>\n",
       "    </tr>\n",
       "    <tr>\n",
       "      <th>6</th>\n",
       "      <td>{2, 5}</td>\n",
       "      <td>0</td>\n",
       "    </tr>\n",
       "    <tr>\n",
       "      <th>7</th>\n",
       "      <td>{3, 4}</td>\n",
       "      <td>0</td>\n",
       "    </tr>\n",
       "    <tr>\n",
       "      <th>8</th>\n",
       "      <td>{3, 5}</td>\n",
       "      <td>0</td>\n",
       "    </tr>\n",
       "    <tr>\n",
       "      <th>9</th>\n",
       "      <td>{4, 5}</td>\n",
       "      <td>0</td>\n",
       "    </tr>\n",
       "  </tbody>\n",
       "</table>\n",
       "</div>"
      ],
      "text/plain": [
       "  itemset  sup\n",
       "0  {1, 2}    0\n",
       "1  {1, 3}    0\n",
       "2  {1, 4}    0\n",
       "3  {1, 5}    0\n",
       "4  {2, 3}    0\n",
       "5  {2, 4}    0\n",
       "6  {2, 5}    0\n",
       "7  {3, 4}    0\n",
       "8  {3, 5}    0\n",
       "9  {4, 5}    0"
      ]
     },
     "execution_count": 24,
     "metadata": {},
     "output_type": "execute_result"
    }
   ],
   "source": [
    "initial_df_candidate = pd.DataFrame(count_candidate2, columns=['itemset', 'sup'])\n",
    "initial_df_candidate"
   ]
  },
  {
   "cell_type": "code",
   "execution_count": 25,
   "id": "cfcb53e6",
   "metadata": {},
   "outputs": [],
   "source": [
    "#adding it with 1 whenever we find every candidate is a subset from Database D\n",
    "\n",
    "\n",
    "def count_support(database_dataframe, prev_candidate_list):\n",
    "    #initial_df_candidate['sup'] = 0 #set All value into 0 only for initial value for consistency value when running this cell everytime.\n",
    "    count_prev_candidate = []\n",
    "\n",
    "    #Set the Initial value of Previous Candidate\n",
    "    for i in range(len(prev_candidate_list)):\n",
    "        count_prev_candidate.append((prev_candidate_list[i], 0))\n",
    "    \n",
    "    df_candidate = pd.DataFrame(count_prev_candidate, columns=['itemset', 'sup'])\n",
    "    print('Database D dataframe\\n', database_dataframe)\n",
    "    print('(Initial) Dataframe from Candidate with All zeros sup\\n', df_candidate)\n",
    "    \n",
    "    for i in range(len(database_dataframe)):\n",
    "        for j in range(len(count_prev_candidate)):\n",
    "            #using issubset() function to check whether every itemset is a subset of Database or not\n",
    "            if (df_candidate['itemset'][j]).issubset(set(database_dataframe['items'][i])): \n",
    "                df_candidate.loc[j, 'sup'] += 1\n",
    "            \n",
    "    return df_candidate"
   ]
  },
  {
   "cell_type": "code",
   "execution_count": 26,
   "id": "86363d4a",
   "metadata": {},
   "outputs": [
    {
     "name": "stdout",
     "output_type": "stream",
     "text": [
      "Database D dataframe\n",
      "           items\n",
      "0        [1, 2]\n",
      "1     [1, 2, 3]\n",
      "2  [1, 2, 3, 4]\n",
      "3     [1, 2, 5]\n",
      "4     [1, 3, 5]\n",
      "5        [4, 5]\n",
      "6  [1, 2, 3, 5]\n",
      "7        [1, 3]\n",
      "8        [1, 4]\n",
      "9     [2, 3, 4]\n",
      "(Initial) Dataframe from Candidate with All zeros sup\n",
      "   itemset  sup\n",
      "0  {1, 2}    0\n",
      "1  {1, 3}    0\n",
      "2  {1, 4}    0\n",
      "3  {1, 5}    0\n",
      "4  {2, 3}    0\n",
      "5  {2, 4}    0\n",
      "6  {2, 5}    0\n",
      "7  {3, 4}    0\n",
      "8  {3, 5}    0\n",
      "9  {4, 5}    0\n"
     ]
    }
   ],
   "source": [
    "count_candidate2_df = count_support(df, candidate2_list)"
   ]
  },
  {
   "cell_type": "code",
   "execution_count": 27,
   "id": "25eb179b",
   "metadata": {},
   "outputs": [
    {
     "data": {
      "text/html": [
       "<div>\n",
       "<style scoped>\n",
       "    .dataframe tbody tr th:only-of-type {\n",
       "        vertical-align: middle;\n",
       "    }\n",
       "\n",
       "    .dataframe tbody tr th {\n",
       "        vertical-align: top;\n",
       "    }\n",
       "\n",
       "    .dataframe thead th {\n",
       "        text-align: right;\n",
       "    }\n",
       "</style>\n",
       "<table border=\"1\" class=\"dataframe\">\n",
       "  <thead>\n",
       "    <tr style=\"text-align: right;\">\n",
       "      <th></th>\n",
       "      <th>itemset</th>\n",
       "      <th>sup</th>\n",
       "    </tr>\n",
       "  </thead>\n",
       "  <tbody>\n",
       "    <tr>\n",
       "      <th>0</th>\n",
       "      <td>{1, 2}</td>\n",
       "      <td>5</td>\n",
       "    </tr>\n",
       "    <tr>\n",
       "      <th>1</th>\n",
       "      <td>{1, 3}</td>\n",
       "      <td>5</td>\n",
       "    </tr>\n",
       "    <tr>\n",
       "      <th>2</th>\n",
       "      <td>{1, 4}</td>\n",
       "      <td>2</td>\n",
       "    </tr>\n",
       "    <tr>\n",
       "      <th>3</th>\n",
       "      <td>{1, 5}</td>\n",
       "      <td>3</td>\n",
       "    </tr>\n",
       "    <tr>\n",
       "      <th>4</th>\n",
       "      <td>{2, 3}</td>\n",
       "      <td>4</td>\n",
       "    </tr>\n",
       "    <tr>\n",
       "      <th>5</th>\n",
       "      <td>{2, 4}</td>\n",
       "      <td>2</td>\n",
       "    </tr>\n",
       "    <tr>\n",
       "      <th>6</th>\n",
       "      <td>{2, 5}</td>\n",
       "      <td>2</td>\n",
       "    </tr>\n",
       "    <tr>\n",
       "      <th>7</th>\n",
       "      <td>{3, 4}</td>\n",
       "      <td>2</td>\n",
       "    </tr>\n",
       "    <tr>\n",
       "      <th>8</th>\n",
       "      <td>{3, 5}</td>\n",
       "      <td>2</td>\n",
       "    </tr>\n",
       "    <tr>\n",
       "      <th>9</th>\n",
       "      <td>{4, 5}</td>\n",
       "      <td>1</td>\n",
       "    </tr>\n",
       "  </tbody>\n",
       "</table>\n",
       "</div>"
      ],
      "text/plain": [
       "  itemset  sup\n",
       "0  {1, 2}    5\n",
       "1  {1, 3}    5\n",
       "2  {1, 4}    2\n",
       "3  {1, 5}    3\n",
       "4  {2, 3}    4\n",
       "5  {2, 4}    2\n",
       "6  {2, 5}    2\n",
       "7  {3, 4}    2\n",
       "8  {3, 5}    2\n",
       "9  {4, 5}    1"
      ]
     },
     "execution_count": 27,
     "metadata": {},
     "output_type": "execute_result"
    }
   ],
   "source": [
    "count_candidate2_df"
   ]
  },
  {
   "cell_type": "markdown",
   "id": "2cfd9229",
   "metadata": {},
   "source": [
    "# Creating Second Frequent Itemset (L2)"
   ]
  },
  {
   "cell_type": "code",
   "execution_count": 28,
   "id": "cccd6a34",
   "metadata": {},
   "outputs": [
    {
     "data": {
      "text/html": [
       "<div>\n",
       "<style scoped>\n",
       "    .dataframe tbody tr th:only-of-type {\n",
       "        vertical-align: middle;\n",
       "    }\n",
       "\n",
       "    .dataframe tbody tr th {\n",
       "        vertical-align: top;\n",
       "    }\n",
       "\n",
       "    .dataframe thead th {\n",
       "        text-align: right;\n",
       "    }\n",
       "</style>\n",
       "<table border=\"1\" class=\"dataframe\">\n",
       "  <thead>\n",
       "    <tr style=\"text-align: right;\">\n",
       "      <th></th>\n",
       "      <th>itemset</th>\n",
       "      <th>sup</th>\n",
       "    </tr>\n",
       "  </thead>\n",
       "  <tbody>\n",
       "    <tr>\n",
       "      <th>0</th>\n",
       "      <td>{1, 2}</td>\n",
       "      <td>5</td>\n",
       "    </tr>\n",
       "    <tr>\n",
       "      <th>1</th>\n",
       "      <td>{1, 3}</td>\n",
       "      <td>5</td>\n",
       "    </tr>\n",
       "    <tr>\n",
       "      <th>3</th>\n",
       "      <td>{1, 5}</td>\n",
       "      <td>3</td>\n",
       "    </tr>\n",
       "    <tr>\n",
       "      <th>4</th>\n",
       "      <td>{2, 3}</td>\n",
       "      <td>4</td>\n",
       "    </tr>\n",
       "  </tbody>\n",
       "</table>\n",
       "</div>"
      ],
      "text/plain": [
       "  itemset  sup\n",
       "0  {1, 2}    5\n",
       "1  {1, 3}    5\n",
       "3  {1, 5}    3\n",
       "4  {2, 3}    4"
      ]
     },
     "execution_count": 28,
     "metadata": {},
     "output_type": "execute_result"
    }
   ],
   "source": [
    "#Filter the itemset based on minimum support (occurences of items)\n",
    "freq_itemset2 = filter_sup(count_candidate2_df)\n",
    "freq_itemset2"
   ]
  },
  {
   "cell_type": "code",
   "execution_count": 29,
   "id": "05350ab1",
   "metadata": {},
   "outputs": [],
   "source": [
    "freq_itemset2_reset = freq_itemset2.reset_index(drop=True)"
   ]
  },
  {
   "cell_type": "code",
   "execution_count": 30,
   "id": "309b18fc",
   "metadata": {},
   "outputs": [
    {
     "data": {
      "text/html": [
       "<div>\n",
       "<style scoped>\n",
       "    .dataframe tbody tr th:only-of-type {\n",
       "        vertical-align: middle;\n",
       "    }\n",
       "\n",
       "    .dataframe tbody tr th {\n",
       "        vertical-align: top;\n",
       "    }\n",
       "\n",
       "    .dataframe thead th {\n",
       "        text-align: right;\n",
       "    }\n",
       "</style>\n",
       "<table border=\"1\" class=\"dataframe\">\n",
       "  <thead>\n",
       "    <tr style=\"text-align: right;\">\n",
       "      <th></th>\n",
       "      <th>itemset</th>\n",
       "      <th>sup</th>\n",
       "    </tr>\n",
       "  </thead>\n",
       "  <tbody>\n",
       "    <tr>\n",
       "      <th>0</th>\n",
       "      <td>{1, 2}</td>\n",
       "      <td>5</td>\n",
       "    </tr>\n",
       "    <tr>\n",
       "      <th>1</th>\n",
       "      <td>{1, 3}</td>\n",
       "      <td>5</td>\n",
       "    </tr>\n",
       "    <tr>\n",
       "      <th>2</th>\n",
       "      <td>{1, 5}</td>\n",
       "      <td>3</td>\n",
       "    </tr>\n",
       "    <tr>\n",
       "      <th>3</th>\n",
       "      <td>{2, 3}</td>\n",
       "      <td>4</td>\n",
       "    </tr>\n",
       "  </tbody>\n",
       "</table>\n",
       "</div>"
      ],
      "text/plain": [
       "  itemset  sup\n",
       "0  {1, 2}    5\n",
       "1  {1, 3}    5\n",
       "2  {1, 5}    3\n",
       "3  {2, 3}    4"
      ]
     },
     "execution_count": 30,
     "metadata": {},
     "output_type": "execute_result"
    }
   ],
   "source": [
    "freq_itemset2_reset"
   ]
  },
  {
   "cell_type": "markdown",
   "id": "44e34f0f",
   "metadata": {},
   "source": [
    "# Creating the Third Candidate (C3) - Using the Candidate Forming Technique "
   ]
  },
  {
   "cell_type": "markdown",
   "id": "6c9a6d8f",
   "metadata": {},
   "source": [
    "SELF JOIN"
   ]
  },
  {
   "cell_type": "code",
   "execution_count": 31,
   "id": "03a7bd10",
   "metadata": {},
   "outputs": [
    {
     "name": "stdout",
     "output_type": "stream",
     "text": [
      "  itemset  sup\n",
      "0  {1, 2}    5\n",
      "1  {1, 3}    5\n",
      "2  {1, 5}    3\n",
      "3  {2, 3}    4\n",
      "self join result\n",
      "[{1, 2, 3}, {1, 2, 5}, {1, 3, 5}, {1, 2, 3, 5}]\n"
     ]
    }
   ],
   "source": [
    "print(freq_itemset2_reset)\n",
    "self_join_result = self_join(freq_itemset2_reset)\n",
    "print('self join result')\n",
    "print(self_join_result)"
   ]
  },
  {
   "cell_type": "markdown",
   "id": "07f87405",
   "metadata": {},
   "source": [
    "PRUNING"
   ]
  },
  {
   "cell_type": "code",
   "execution_count": 32,
   "id": "66139943",
   "metadata": {},
   "outputs": [],
   "source": [
    "def get_subset(candidate):\n",
    "    temp = []\n",
    "    final = []\n",
    "    for i in range(len(candidate)):\n",
    "        for j in range(len(candidate)):\n",
    "            if i != j:\n",
    "                temp.append(candidate[j])\n",
    "        temp_set = set(temp)\n",
    "        final.append(temp_set)\n",
    "        temp.clear()\n",
    "    print('Subset from {} : {}'.format(candidate, final))\n",
    "    return final\n",
    "\n",
    "def pruning(candidate_set, prev_freq_itemset):\n",
    "    print('Candidate set', candidate_set)\n",
    "    temp = []\n",
    "    \n",
    "    for idx, value in enumerate(candidate_set):\n",
    "        list_candidate = list(value)\n",
    "        temp_candidate = (get_subset(list_candidate))\n",
    "        \n",
    "        for temp_item in temp_candidate:\n",
    "            print('Temp item', temp_item)\n",
    "            check = temp_item == prev_freq_itemset['itemset']\n",
    "            print('\\nCheck candidate from Previous Frequent Itemset\\n', check)\n",
    "            \n",
    "            if any(check) == False:\n",
    "                print(any(check))\n",
    "                print('Val', value)\n",
    "            else:\n",
    "                print('\\nAll of {} subset contained in \\n{}'.format(candidate_set, prev_freq_itemset))\n",
    "                if value not in temp:\n",
    "                    temp.append(value)\n",
    "                \n",
    "    return temp"
   ]
  },
  {
   "cell_type": "code",
   "execution_count": 33,
   "id": "075d23b6",
   "metadata": {},
   "outputs": [
    {
     "data": {
      "text/html": [
       "<div>\n",
       "<style scoped>\n",
       "    .dataframe tbody tr th:only-of-type {\n",
       "        vertical-align: middle;\n",
       "    }\n",
       "\n",
       "    .dataframe tbody tr th {\n",
       "        vertical-align: top;\n",
       "    }\n",
       "\n",
       "    .dataframe thead th {\n",
       "        text-align: right;\n",
       "    }\n",
       "</style>\n",
       "<table border=\"1\" class=\"dataframe\">\n",
       "  <thead>\n",
       "    <tr style=\"text-align: right;\">\n",
       "      <th></th>\n",
       "      <th>itemset</th>\n",
       "      <th>sup</th>\n",
       "    </tr>\n",
       "  </thead>\n",
       "  <tbody>\n",
       "    <tr>\n",
       "      <th>0</th>\n",
       "      <td>{1, 2}</td>\n",
       "      <td>5</td>\n",
       "    </tr>\n",
       "    <tr>\n",
       "      <th>1</th>\n",
       "      <td>{1, 3}</td>\n",
       "      <td>5</td>\n",
       "    </tr>\n",
       "    <tr>\n",
       "      <th>2</th>\n",
       "      <td>{1, 5}</td>\n",
       "      <td>3</td>\n",
       "    </tr>\n",
       "    <tr>\n",
       "      <th>3</th>\n",
       "      <td>{2, 3}</td>\n",
       "      <td>4</td>\n",
       "    </tr>\n",
       "  </tbody>\n",
       "</table>\n",
       "</div>"
      ],
      "text/plain": [
       "  itemset  sup\n",
       "0  {1, 2}    5\n",
       "1  {1, 3}    5\n",
       "2  {1, 5}    3\n",
       "3  {2, 3}    4"
      ]
     },
     "execution_count": 33,
     "metadata": {},
     "output_type": "execute_result"
    }
   ],
   "source": [
    "freq_itemset2_reset"
   ]
  },
  {
   "cell_type": "code",
   "execution_count": 34,
   "id": "a09c78d9",
   "metadata": {},
   "outputs": [],
   "source": [
    "subset = [{2, 3}, {1, 3}, {1, 2}]"
   ]
  },
  {
   "cell_type": "code",
   "execution_count": 35,
   "id": "5559c7bc",
   "metadata": {},
   "outputs": [
    {
     "data": {
      "text/plain": [
       "[{1, 2, 3}, {1, 2, 5}, {1, 3, 5}, {1, 2, 3, 5}]"
      ]
     },
     "execution_count": 35,
     "metadata": {},
     "output_type": "execute_result"
    }
   ],
   "source": [
    "self_join_result"
   ]
  },
  {
   "cell_type": "code",
   "execution_count": 36,
   "id": "0facc6de",
   "metadata": {},
   "outputs": [
    {
     "name": "stdout",
     "output_type": "stream",
     "text": [
      "Subset from [1, 2, 3] : [{2, 3}, {1, 3}, {1, 2}]\n",
      "Subset from [1, 2, 5] : [{2, 5}, {1, 5}, {1, 2}]\n",
      "Subset from [1, 3, 5] : [{3, 5}, {1, 5}, {1, 3}]\n",
      "Subset from [1, 2, 3, 5] : [{2, 3, 5}, {1, 3, 5}, {1, 2, 5}, {1, 2, 3}]\n"
     ]
    }
   ],
   "source": [
    "for i in range(len(self_join_result)):\n",
    "    get_subset(list(self_join_result[i]))"
   ]
  },
  {
   "cell_type": "code",
   "execution_count": 37,
   "id": "b5c29bfb",
   "metadata": {},
   "outputs": [
    {
     "data": {
      "text/html": [
       "<div>\n",
       "<style scoped>\n",
       "    .dataframe tbody tr th:only-of-type {\n",
       "        vertical-align: middle;\n",
       "    }\n",
       "\n",
       "    .dataframe tbody tr th {\n",
       "        vertical-align: top;\n",
       "    }\n",
       "\n",
       "    .dataframe thead th {\n",
       "        text-align: right;\n",
       "    }\n",
       "</style>\n",
       "<table border=\"1\" class=\"dataframe\">\n",
       "  <thead>\n",
       "    <tr style=\"text-align: right;\">\n",
       "      <th></th>\n",
       "      <th>itemset</th>\n",
       "      <th>sup</th>\n",
       "    </tr>\n",
       "  </thead>\n",
       "  <tbody>\n",
       "    <tr>\n",
       "      <th>0</th>\n",
       "      <td>{1, 2}</td>\n",
       "      <td>5</td>\n",
       "    </tr>\n",
       "    <tr>\n",
       "      <th>1</th>\n",
       "      <td>{1, 3}</td>\n",
       "      <td>5</td>\n",
       "    </tr>\n",
       "    <tr>\n",
       "      <th>2</th>\n",
       "      <td>{1, 5}</td>\n",
       "      <td>3</td>\n",
       "    </tr>\n",
       "    <tr>\n",
       "      <th>3</th>\n",
       "      <td>{2, 3}</td>\n",
       "      <td>4</td>\n",
       "    </tr>\n",
       "  </tbody>\n",
       "</table>\n",
       "</div>"
      ],
      "text/plain": [
       "  itemset  sup\n",
       "0  {1, 2}    5\n",
       "1  {1, 3}    5\n",
       "2  {1, 5}    3\n",
       "3  {2, 3}    4"
      ]
     },
     "execution_count": 37,
     "metadata": {},
     "output_type": "execute_result"
    }
   ],
   "source": [
    "freq_itemset2_reset"
   ]
  },
  {
   "cell_type": "code",
   "execution_count": 38,
   "id": "46e41381",
   "metadata": {},
   "outputs": [
    {
     "name": "stdout",
     "output_type": "stream",
     "text": [
      "{2, 3}\n",
      "Check True\n",
      "{1, 3}\n",
      "Check True\n",
      "{1, 2}\n",
      "Check True\n"
     ]
    }
   ],
   "source": [
    "for item in subset:\n",
    "    print(item)\n",
    "    check = item == freq_itemset2_reset['itemset']\n",
    "    print('Check', any(check))"
   ]
  },
  {
   "cell_type": "code",
   "execution_count": 39,
   "id": "3aa6cdf8",
   "metadata": {},
   "outputs": [
    {
     "data": {
      "text/plain": [
       "[{1, 2, 3}, {1, 2, 5}, {1, 3, 5}, {1, 2, 3, 5}]"
      ]
     },
     "execution_count": 39,
     "metadata": {},
     "output_type": "execute_result"
    }
   ],
   "source": [
    "self_join_result"
   ]
  },
  {
   "cell_type": "code",
   "execution_count": 40,
   "id": "9dd8c0e7",
   "metadata": {},
   "outputs": [
    {
     "name": "stdout",
     "output_type": "stream",
     "text": [
      "Candidate set [{1, 2, 3}, {1, 2, 5}, {1, 3, 5}, {1, 2, 3, 5}]\n",
      "Subset from [1, 2, 3] : [{2, 3}, {1, 3}, {1, 2}]\n",
      "Temp item {2, 3}\n",
      "\n",
      "Check candidate from Previous Frequent Itemset\n",
      " 0    False\n",
      "1    False\n",
      "2    False\n",
      "3     True\n",
      "Name: itemset, dtype: bool\n",
      "\n",
      "All of [{1, 2, 3}, {1, 2, 5}, {1, 3, 5}, {1, 2, 3, 5}] subset contained in \n",
      "  itemset  sup\n",
      "0  {1, 2}    5\n",
      "1  {1, 3}    5\n",
      "2  {1, 5}    3\n",
      "3  {2, 3}    4\n",
      "Temp item {1, 3}\n",
      "\n",
      "Check candidate from Previous Frequent Itemset\n",
      " 0    False\n",
      "1     True\n",
      "2    False\n",
      "3    False\n",
      "Name: itemset, dtype: bool\n",
      "\n",
      "All of [{1, 2, 3}, {1, 2, 5}, {1, 3, 5}, {1, 2, 3, 5}] subset contained in \n",
      "  itemset  sup\n",
      "0  {1, 2}    5\n",
      "1  {1, 3}    5\n",
      "2  {1, 5}    3\n",
      "3  {2, 3}    4\n",
      "Temp item {1, 2}\n",
      "\n",
      "Check candidate from Previous Frequent Itemset\n",
      " 0     True\n",
      "1    False\n",
      "2    False\n",
      "3    False\n",
      "Name: itemset, dtype: bool\n",
      "\n",
      "All of [{1, 2, 3}, {1, 2, 5}, {1, 3, 5}, {1, 2, 3, 5}] subset contained in \n",
      "  itemset  sup\n",
      "0  {1, 2}    5\n",
      "1  {1, 3}    5\n",
      "2  {1, 5}    3\n",
      "3  {2, 3}    4\n",
      "Subset from [1, 2, 5] : [{2, 5}, {1, 5}, {1, 2}]\n",
      "Temp item {2, 5}\n",
      "\n",
      "Check candidate from Previous Frequent Itemset\n",
      " 0    False\n",
      "1    False\n",
      "2    False\n",
      "3    False\n",
      "Name: itemset, dtype: bool\n",
      "False\n",
      "Val {1, 2, 5}\n",
      "Temp item {1, 5}\n",
      "\n",
      "Check candidate from Previous Frequent Itemset\n",
      " 0    False\n",
      "1    False\n",
      "2     True\n",
      "3    False\n",
      "Name: itemset, dtype: bool\n",
      "\n",
      "All of [{1, 2, 3}, {1, 2, 5}, {1, 3, 5}, {1, 2, 3, 5}] subset contained in \n",
      "  itemset  sup\n",
      "0  {1, 2}    5\n",
      "1  {1, 3}    5\n",
      "2  {1, 5}    3\n",
      "3  {2, 3}    4\n",
      "Temp item {1, 2}\n",
      "\n",
      "Check candidate from Previous Frequent Itemset\n",
      " 0     True\n",
      "1    False\n",
      "2    False\n",
      "3    False\n",
      "Name: itemset, dtype: bool\n",
      "\n",
      "All of [{1, 2, 3}, {1, 2, 5}, {1, 3, 5}, {1, 2, 3, 5}] subset contained in \n",
      "  itemset  sup\n",
      "0  {1, 2}    5\n",
      "1  {1, 3}    5\n",
      "2  {1, 5}    3\n",
      "3  {2, 3}    4\n",
      "Subset from [1, 3, 5] : [{3, 5}, {1, 5}, {1, 3}]\n",
      "Temp item {3, 5}\n",
      "\n",
      "Check candidate from Previous Frequent Itemset\n",
      " 0    False\n",
      "1    False\n",
      "2    False\n",
      "3    False\n",
      "Name: itemset, dtype: bool\n",
      "False\n",
      "Val {1, 3, 5}\n",
      "Temp item {1, 5}\n",
      "\n",
      "Check candidate from Previous Frequent Itemset\n",
      " 0    False\n",
      "1    False\n",
      "2     True\n",
      "3    False\n",
      "Name: itemset, dtype: bool\n",
      "\n",
      "All of [{1, 2, 3}, {1, 2, 5}, {1, 3, 5}, {1, 2, 3, 5}] subset contained in \n",
      "  itemset  sup\n",
      "0  {1, 2}    5\n",
      "1  {1, 3}    5\n",
      "2  {1, 5}    3\n",
      "3  {2, 3}    4\n",
      "Temp item {1, 3}\n",
      "\n",
      "Check candidate from Previous Frequent Itemset\n",
      " 0    False\n",
      "1     True\n",
      "2    False\n",
      "3    False\n",
      "Name: itemset, dtype: bool\n",
      "\n",
      "All of [{1, 2, 3}, {1, 2, 5}, {1, 3, 5}, {1, 2, 3, 5}] subset contained in \n",
      "  itemset  sup\n",
      "0  {1, 2}    5\n",
      "1  {1, 3}    5\n",
      "2  {1, 5}    3\n",
      "3  {2, 3}    4\n",
      "Subset from [1, 2, 3, 5] : [{2, 3, 5}, {1, 3, 5}, {1, 2, 5}, {1, 2, 3}]\n",
      "Temp item {2, 3, 5}\n",
      "\n",
      "Check candidate from Previous Frequent Itemset\n",
      " 0    False\n",
      "1    False\n",
      "2    False\n",
      "3    False\n",
      "Name: itemset, dtype: bool\n",
      "False\n",
      "Val {1, 2, 3, 5}\n",
      "Temp item {1, 3, 5}\n",
      "\n",
      "Check candidate from Previous Frequent Itemset\n",
      " 0    False\n",
      "1    False\n",
      "2    False\n",
      "3    False\n",
      "Name: itemset, dtype: bool\n",
      "False\n",
      "Val {1, 2, 3, 5}\n",
      "Temp item {1, 2, 5}\n",
      "\n",
      "Check candidate from Previous Frequent Itemset\n",
      " 0    False\n",
      "1    False\n",
      "2    False\n",
      "3    False\n",
      "Name: itemset, dtype: bool\n",
      "False\n",
      "Val {1, 2, 3, 5}\n",
      "Temp item {1, 2, 3}\n",
      "\n",
      "Check candidate from Previous Frequent Itemset\n",
      " 0    False\n",
      "1    False\n",
      "2    False\n",
      "3    False\n",
      "Name: itemset, dtype: bool\n",
      "False\n",
      "Val {1, 2, 3, 5}\n"
     ]
    }
   ],
   "source": [
    "candidate3_list = pruning(self_join_result, freq_itemset2_reset)"
   ]
  },
  {
   "cell_type": "code",
   "execution_count": 41,
   "id": "06d291f6",
   "metadata": {},
   "outputs": [
    {
     "data": {
      "text/plain": [
       "[{1, 2, 3}, {1, 2, 5}, {1, 3, 5}]"
      ]
     },
     "execution_count": 41,
     "metadata": {},
     "output_type": "execute_result"
    }
   ],
   "source": [
    "candidate3_list"
   ]
  },
  {
   "cell_type": "markdown",
   "id": "017ed983",
   "metadata": {},
   "source": [
    "# Creating the Third Frequent Itemset (L3)"
   ]
  },
  {
   "cell_type": "code",
   "execution_count": 42,
   "id": "830ba114",
   "metadata": {},
   "outputs": [
    {
     "data": {
      "text/html": [
       "<div>\n",
       "<style scoped>\n",
       "    .dataframe tbody tr th:only-of-type {\n",
       "        vertical-align: middle;\n",
       "    }\n",
       "\n",
       "    .dataframe tbody tr th {\n",
       "        vertical-align: top;\n",
       "    }\n",
       "\n",
       "    .dataframe thead th {\n",
       "        text-align: right;\n",
       "    }\n",
       "</style>\n",
       "<table border=\"1\" class=\"dataframe\">\n",
       "  <thead>\n",
       "    <tr style=\"text-align: right;\">\n",
       "      <th></th>\n",
       "      <th>items</th>\n",
       "    </tr>\n",
       "  </thead>\n",
       "  <tbody>\n",
       "    <tr>\n",
       "      <th>0</th>\n",
       "      <td>[1, 2]</td>\n",
       "    </tr>\n",
       "    <tr>\n",
       "      <th>1</th>\n",
       "      <td>[1, 2, 3]</td>\n",
       "    </tr>\n",
       "    <tr>\n",
       "      <th>2</th>\n",
       "      <td>[1, 2, 3, 4]</td>\n",
       "    </tr>\n",
       "    <tr>\n",
       "      <th>3</th>\n",
       "      <td>[1, 2, 5]</td>\n",
       "    </tr>\n",
       "    <tr>\n",
       "      <th>4</th>\n",
       "      <td>[1, 3, 5]</td>\n",
       "    </tr>\n",
       "    <tr>\n",
       "      <th>5</th>\n",
       "      <td>[4, 5]</td>\n",
       "    </tr>\n",
       "    <tr>\n",
       "      <th>6</th>\n",
       "      <td>[1, 2, 3, 5]</td>\n",
       "    </tr>\n",
       "    <tr>\n",
       "      <th>7</th>\n",
       "      <td>[1, 3]</td>\n",
       "    </tr>\n",
       "    <tr>\n",
       "      <th>8</th>\n",
       "      <td>[1, 4]</td>\n",
       "    </tr>\n",
       "    <tr>\n",
       "      <th>9</th>\n",
       "      <td>[2, 3, 4]</td>\n",
       "    </tr>\n",
       "  </tbody>\n",
       "</table>\n",
       "</div>"
      ],
      "text/plain": [
       "          items\n",
       "0        [1, 2]\n",
       "1     [1, 2, 3]\n",
       "2  [1, 2, 3, 4]\n",
       "3     [1, 2, 5]\n",
       "4     [1, 3, 5]\n",
       "5        [4, 5]\n",
       "6  [1, 2, 3, 5]\n",
       "7        [1, 3]\n",
       "8        [1, 4]\n",
       "9     [2, 3, 4]"
      ]
     },
     "execution_count": 42,
     "metadata": {},
     "output_type": "execute_result"
    }
   ],
   "source": [
    "df"
   ]
  },
  {
   "cell_type": "code",
   "execution_count": 43,
   "id": "5e6f548e",
   "metadata": {},
   "outputs": [
    {
     "data": {
      "text/plain": [
       "[{1, 2, 3}, {1, 2, 5}, {1, 3, 5}]"
      ]
     },
     "execution_count": 43,
     "metadata": {},
     "output_type": "execute_result"
    }
   ],
   "source": [
    "#Checking the newest candidate value\n",
    "candidate3_list"
   ]
  },
  {
   "cell_type": "code",
   "execution_count": 44,
   "id": "233af7fe",
   "metadata": {},
   "outputs": [
    {
     "name": "stdout",
     "output_type": "stream",
     "text": [
      "Database D dataframe\n",
      "           items\n",
      "0        [1, 2]\n",
      "1     [1, 2, 3]\n",
      "2  [1, 2, 3, 4]\n",
      "3     [1, 2, 5]\n",
      "4     [1, 3, 5]\n",
      "5        [4, 5]\n",
      "6  [1, 2, 3, 5]\n",
      "7        [1, 3]\n",
      "8        [1, 4]\n",
      "9     [2, 3, 4]\n",
      "(Initial) Dataframe from Candidate with All zeros sup\n",
      "      itemset  sup\n",
      "0  {1, 2, 3}    0\n",
      "1  {1, 2, 5}    0\n",
      "2  {1, 3, 5}    0\n"
     ]
    }
   ],
   "source": [
    "count_candidate3_df = count_support(df, candidate3_list)"
   ]
  },
  {
   "cell_type": "code",
   "execution_count": 45,
   "id": "3f0222a6",
   "metadata": {},
   "outputs": [
    {
     "data": {
      "text/html": [
       "<div>\n",
       "<style scoped>\n",
       "    .dataframe tbody tr th:only-of-type {\n",
       "        vertical-align: middle;\n",
       "    }\n",
       "\n",
       "    .dataframe tbody tr th {\n",
       "        vertical-align: top;\n",
       "    }\n",
       "\n",
       "    .dataframe thead th {\n",
       "        text-align: right;\n",
       "    }\n",
       "</style>\n",
       "<table border=\"1\" class=\"dataframe\">\n",
       "  <thead>\n",
       "    <tr style=\"text-align: right;\">\n",
       "      <th></th>\n",
       "      <th>itemset</th>\n",
       "      <th>sup</th>\n",
       "    </tr>\n",
       "  </thead>\n",
       "  <tbody>\n",
       "    <tr>\n",
       "      <th>0</th>\n",
       "      <td>{1, 2, 3}</td>\n",
       "      <td>3</td>\n",
       "    </tr>\n",
       "    <tr>\n",
       "      <th>1</th>\n",
       "      <td>{1, 2, 5}</td>\n",
       "      <td>2</td>\n",
       "    </tr>\n",
       "    <tr>\n",
       "      <th>2</th>\n",
       "      <td>{1, 3, 5}</td>\n",
       "      <td>2</td>\n",
       "    </tr>\n",
       "  </tbody>\n",
       "</table>\n",
       "</div>"
      ],
      "text/plain": [
       "     itemset  sup\n",
       "0  {1, 2, 3}    3\n",
       "1  {1, 2, 5}    2\n",
       "2  {1, 3, 5}    2"
      ]
     },
     "execution_count": 45,
     "metadata": {},
     "output_type": "execute_result"
    }
   ],
   "source": [
    "count_candidate3_df"
   ]
  },
  {
   "cell_type": "code",
   "execution_count": 46,
   "id": "368011d0",
   "metadata": {},
   "outputs": [
    {
     "data": {
      "text/html": [
       "<div>\n",
       "<style scoped>\n",
       "    .dataframe tbody tr th:only-of-type {\n",
       "        vertical-align: middle;\n",
       "    }\n",
       "\n",
       "    .dataframe tbody tr th {\n",
       "        vertical-align: top;\n",
       "    }\n",
       "\n",
       "    .dataframe thead th {\n",
       "        text-align: right;\n",
       "    }\n",
       "</style>\n",
       "<table border=\"1\" class=\"dataframe\">\n",
       "  <thead>\n",
       "    <tr style=\"text-align: right;\">\n",
       "      <th></th>\n",
       "      <th>itemset</th>\n",
       "      <th>sup</th>\n",
       "    </tr>\n",
       "  </thead>\n",
       "  <tbody>\n",
       "    <tr>\n",
       "      <th>0</th>\n",
       "      <td>{1, 2, 3}</td>\n",
       "      <td>3</td>\n",
       "    </tr>\n",
       "  </tbody>\n",
       "</table>\n",
       "</div>"
      ],
      "text/plain": [
       "     itemset  sup\n",
       "0  {1, 2, 3}    3"
      ]
     },
     "execution_count": 46,
     "metadata": {},
     "output_type": "execute_result"
    }
   ],
   "source": [
    "freq_itemset3 = filter_sup(count_candidate3_df)\n",
    "freq_itemset3"
   ]
  },
  {
   "cell_type": "markdown",
   "id": "32df4609",
   "metadata": {},
   "source": [
    "All Frequent Itemset"
   ]
  },
  {
   "cell_type": "code",
   "execution_count": 47,
   "id": "dcfba668",
   "metadata": {},
   "outputs": [
    {
     "data": {
      "text/html": [
       "<div>\n",
       "<style scoped>\n",
       "    .dataframe tbody tr th:only-of-type {\n",
       "        vertical-align: middle;\n",
       "    }\n",
       "\n",
       "    .dataframe tbody tr th {\n",
       "        vertical-align: top;\n",
       "    }\n",
       "\n",
       "    .dataframe thead th {\n",
       "        text-align: right;\n",
       "    }\n",
       "</style>\n",
       "<table border=\"1\" class=\"dataframe\">\n",
       "  <thead>\n",
       "    <tr style=\"text-align: right;\">\n",
       "      <th></th>\n",
       "      <th>itemset</th>\n",
       "      <th>sup</th>\n",
       "    </tr>\n",
       "  </thead>\n",
       "  <tbody>\n",
       "    <tr>\n",
       "      <th>0</th>\n",
       "      <td>1</td>\n",
       "      <td>8</td>\n",
       "    </tr>\n",
       "    <tr>\n",
       "      <th>1</th>\n",
       "      <td>2</td>\n",
       "      <td>6</td>\n",
       "    </tr>\n",
       "    <tr>\n",
       "      <th>2</th>\n",
       "      <td>3</td>\n",
       "      <td>6</td>\n",
       "    </tr>\n",
       "    <tr>\n",
       "      <th>3</th>\n",
       "      <td>4</td>\n",
       "      <td>4</td>\n",
       "    </tr>\n",
       "    <tr>\n",
       "      <th>4</th>\n",
       "      <td>5</td>\n",
       "      <td>4</td>\n",
       "    </tr>\n",
       "  </tbody>\n",
       "</table>\n",
       "</div>"
      ],
      "text/plain": [
       "   itemset  sup\n",
       "0        1    8\n",
       "1        2    6\n",
       "2        3    6\n",
       "3        4    4\n",
       "4        5    4"
      ]
     },
     "execution_count": 47,
     "metadata": {},
     "output_type": "execute_result"
    }
   ],
   "source": [
    "freq_itemset1"
   ]
  },
  {
   "cell_type": "code",
   "execution_count": 48,
   "id": "0a4e8b4d",
   "metadata": {},
   "outputs": [
    {
     "data": {
      "text/html": [
       "<div>\n",
       "<style scoped>\n",
       "    .dataframe tbody tr th:only-of-type {\n",
       "        vertical-align: middle;\n",
       "    }\n",
       "\n",
       "    .dataframe tbody tr th {\n",
       "        vertical-align: top;\n",
       "    }\n",
       "\n",
       "    .dataframe thead th {\n",
       "        text-align: right;\n",
       "    }\n",
       "</style>\n",
       "<table border=\"1\" class=\"dataframe\">\n",
       "  <thead>\n",
       "    <tr style=\"text-align: right;\">\n",
       "      <th></th>\n",
       "      <th>itemset</th>\n",
       "      <th>sup</th>\n",
       "    </tr>\n",
       "  </thead>\n",
       "  <tbody>\n",
       "    <tr>\n",
       "      <th>0</th>\n",
       "      <td>{1, 2}</td>\n",
       "      <td>5</td>\n",
       "    </tr>\n",
       "    <tr>\n",
       "      <th>1</th>\n",
       "      <td>{1, 3}</td>\n",
       "      <td>5</td>\n",
       "    </tr>\n",
       "    <tr>\n",
       "      <th>3</th>\n",
       "      <td>{1, 5}</td>\n",
       "      <td>3</td>\n",
       "    </tr>\n",
       "    <tr>\n",
       "      <th>4</th>\n",
       "      <td>{2, 3}</td>\n",
       "      <td>4</td>\n",
       "    </tr>\n",
       "  </tbody>\n",
       "</table>\n",
       "</div>"
      ],
      "text/plain": [
       "  itemset  sup\n",
       "0  {1, 2}    5\n",
       "1  {1, 3}    5\n",
       "3  {1, 5}    3\n",
       "4  {2, 3}    4"
      ]
     },
     "execution_count": 48,
     "metadata": {},
     "output_type": "execute_result"
    }
   ],
   "source": [
    "freq_itemset2"
   ]
  },
  {
   "cell_type": "code",
   "execution_count": 49,
   "id": "21c1e8b6",
   "metadata": {},
   "outputs": [
    {
     "data": {
      "text/html": [
       "<div>\n",
       "<style scoped>\n",
       "    .dataframe tbody tr th:only-of-type {\n",
       "        vertical-align: middle;\n",
       "    }\n",
       "\n",
       "    .dataframe tbody tr th {\n",
       "        vertical-align: top;\n",
       "    }\n",
       "\n",
       "    .dataframe thead th {\n",
       "        text-align: right;\n",
       "    }\n",
       "</style>\n",
       "<table border=\"1\" class=\"dataframe\">\n",
       "  <thead>\n",
       "    <tr style=\"text-align: right;\">\n",
       "      <th></th>\n",
       "      <th>itemset</th>\n",
       "      <th>sup</th>\n",
       "    </tr>\n",
       "  </thead>\n",
       "  <tbody>\n",
       "    <tr>\n",
       "      <th>0</th>\n",
       "      <td>{1, 2, 3}</td>\n",
       "      <td>3</td>\n",
       "    </tr>\n",
       "  </tbody>\n",
       "</table>\n",
       "</div>"
      ],
      "text/plain": [
       "     itemset  sup\n",
       "0  {1, 2, 3}    3"
      ]
     },
     "execution_count": 49,
     "metadata": {},
     "output_type": "execute_result"
    }
   ],
   "source": [
    "freq_itemset3"
   ]
  },
  {
   "cell_type": "code",
   "execution_count": 50,
   "id": "046484f8",
   "metadata": {},
   "outputs": [
    {
     "data": {
      "text/html": [
       "<div>\n",
       "<style scoped>\n",
       "    .dataframe tbody tr th:only-of-type {\n",
       "        vertical-align: middle;\n",
       "    }\n",
       "\n",
       "    .dataframe tbody tr th {\n",
       "        vertical-align: top;\n",
       "    }\n",
       "\n",
       "    .dataframe thead th {\n",
       "        text-align: right;\n",
       "    }\n",
       "</style>\n",
       "<table border=\"1\" class=\"dataframe\">\n",
       "  <thead>\n",
       "    <tr style=\"text-align: right;\">\n",
       "      <th></th>\n",
       "      <th>itemset</th>\n",
       "      <th>sup</th>\n",
       "    </tr>\n",
       "  </thead>\n",
       "  <tbody>\n",
       "    <tr>\n",
       "      <th>0</th>\n",
       "      <td>1</td>\n",
       "      <td>8</td>\n",
       "    </tr>\n",
       "    <tr>\n",
       "      <th>1</th>\n",
       "      <td>2</td>\n",
       "      <td>6</td>\n",
       "    </tr>\n",
       "    <tr>\n",
       "      <th>2</th>\n",
       "      <td>3</td>\n",
       "      <td>6</td>\n",
       "    </tr>\n",
       "    <tr>\n",
       "      <th>3</th>\n",
       "      <td>4</td>\n",
       "      <td>4</td>\n",
       "    </tr>\n",
       "    <tr>\n",
       "      <th>4</th>\n",
       "      <td>5</td>\n",
       "      <td>4</td>\n",
       "    </tr>\n",
       "    <tr>\n",
       "      <th>0</th>\n",
       "      <td>{1, 2}</td>\n",
       "      <td>5</td>\n",
       "    </tr>\n",
       "    <tr>\n",
       "      <th>1</th>\n",
       "      <td>{1, 3}</td>\n",
       "      <td>5</td>\n",
       "    </tr>\n",
       "    <tr>\n",
       "      <th>3</th>\n",
       "      <td>{1, 5}</td>\n",
       "      <td>3</td>\n",
       "    </tr>\n",
       "    <tr>\n",
       "      <th>4</th>\n",
       "      <td>{2, 3}</td>\n",
       "      <td>4</td>\n",
       "    </tr>\n",
       "    <tr>\n",
       "      <th>0</th>\n",
       "      <td>{1, 2, 3}</td>\n",
       "      <td>3</td>\n",
       "    </tr>\n",
       "  </tbody>\n",
       "</table>\n",
       "</div>"
      ],
      "text/plain": [
       "     itemset  sup\n",
       "0          1    8\n",
       "1          2    6\n",
       "2          3    6\n",
       "3          4    4\n",
       "4          5    4\n",
       "0     {1, 2}    5\n",
       "1     {1, 3}    5\n",
       "3     {1, 5}    3\n",
       "4     {2, 3}    4\n",
       "0  {1, 2, 3}    3"
      ]
     },
     "execution_count": 50,
     "metadata": {},
     "output_type": "execute_result"
    }
   ],
   "source": [
    "frequent_itemset = pd.concat([freq_itemset1, freq_itemset2, freq_itemset3], axis=0)\n",
    "frequent_itemset"
   ]
  },
  {
   "cell_type": "code",
   "execution_count": 51,
   "id": "a7bdfe85",
   "metadata": {},
   "outputs": [],
   "source": [
    "#Reset the index\n",
    "frequent_itemset_final = frequent_itemset.reset_index(drop=True)"
   ]
  },
  {
   "cell_type": "markdown",
   "id": "2cb6b31b",
   "metadata": {},
   "source": [
    "Final Output of Freq. Itemset (L1-L3)"
   ]
  },
  {
   "cell_type": "code",
   "execution_count": 52,
   "id": "94325983",
   "metadata": {},
   "outputs": [
    {
     "data": {
      "text/html": [
       "<div>\n",
       "<style scoped>\n",
       "    .dataframe tbody tr th:only-of-type {\n",
       "        vertical-align: middle;\n",
       "    }\n",
       "\n",
       "    .dataframe tbody tr th {\n",
       "        vertical-align: top;\n",
       "    }\n",
       "\n",
       "    .dataframe thead th {\n",
       "        text-align: right;\n",
       "    }\n",
       "</style>\n",
       "<table border=\"1\" class=\"dataframe\">\n",
       "  <thead>\n",
       "    <tr style=\"text-align: right;\">\n",
       "      <th></th>\n",
       "      <th>itemset</th>\n",
       "      <th>sup</th>\n",
       "    </tr>\n",
       "  </thead>\n",
       "  <tbody>\n",
       "    <tr>\n",
       "      <th>0</th>\n",
       "      <td>1</td>\n",
       "      <td>8</td>\n",
       "    </tr>\n",
       "    <tr>\n",
       "      <th>1</th>\n",
       "      <td>2</td>\n",
       "      <td>6</td>\n",
       "    </tr>\n",
       "    <tr>\n",
       "      <th>2</th>\n",
       "      <td>3</td>\n",
       "      <td>6</td>\n",
       "    </tr>\n",
       "    <tr>\n",
       "      <th>3</th>\n",
       "      <td>4</td>\n",
       "      <td>4</td>\n",
       "    </tr>\n",
       "    <tr>\n",
       "      <th>4</th>\n",
       "      <td>5</td>\n",
       "      <td>4</td>\n",
       "    </tr>\n",
       "    <tr>\n",
       "      <th>5</th>\n",
       "      <td>{1, 2}</td>\n",
       "      <td>5</td>\n",
       "    </tr>\n",
       "    <tr>\n",
       "      <th>6</th>\n",
       "      <td>{1, 3}</td>\n",
       "      <td>5</td>\n",
       "    </tr>\n",
       "    <tr>\n",
       "      <th>7</th>\n",
       "      <td>{1, 5}</td>\n",
       "      <td>3</td>\n",
       "    </tr>\n",
       "    <tr>\n",
       "      <th>8</th>\n",
       "      <td>{2, 3}</td>\n",
       "      <td>4</td>\n",
       "    </tr>\n",
       "    <tr>\n",
       "      <th>9</th>\n",
       "      <td>{1, 2, 3}</td>\n",
       "      <td>3</td>\n",
       "    </tr>\n",
       "  </tbody>\n",
       "</table>\n",
       "</div>"
      ],
      "text/plain": [
       "     itemset  sup\n",
       "0          1    8\n",
       "1          2    6\n",
       "2          3    6\n",
       "3          4    4\n",
       "4          5    4\n",
       "5     {1, 2}    5\n",
       "6     {1, 3}    5\n",
       "7     {1, 5}    3\n",
       "8     {2, 3}    4\n",
       "9  {1, 2, 3}    3"
      ]
     },
     "execution_count": 52,
     "metadata": {},
     "output_type": "execute_result"
    }
   ],
   "source": [
    "frequent_itemset_final"
   ]
  }
 ],
 "metadata": {
  "kernelspec": {
   "display_name": "Python 3 (ipykernel)",
   "language": "python",
   "name": "python3"
  },
  "language_info": {
   "codemirror_mode": {
    "name": "ipython",
    "version": 3
   },
   "file_extension": ".py",
   "mimetype": "text/x-python",
   "name": "python",
   "nbconvert_exporter": "python",
   "pygments_lexer": "ipython3",
   "version": "3.9.7"
  }
 },
 "nbformat": 4,
 "nbformat_minor": 5
}
